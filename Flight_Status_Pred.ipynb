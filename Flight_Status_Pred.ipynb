{
 "cells": [
  {
   "cell_type": "code",
   "execution_count": 27,
   "metadata": {},
   "outputs": [],
   "source": [
    "import pandas as pd\n",
    "import numpy as np\n",
    "import matplotlib.pyplot as plt\n",
    "import seaborn as sns\n",
    "%matplotlib inline"
   ]
  },
  {
   "cell_type": "code",
   "execution_count": 28,
   "metadata": {},
   "outputs": [],
   "source": [
    "data = pd.read_csv('FlightDelays.csv')"
   ]
  },
  {
   "cell_type": "code",
   "execution_count": 29,
   "metadata": {},
   "outputs": [
    {
     "name": "stdout",
     "output_type": "stream",
     "text": [
      "<class 'pandas.core.frame.DataFrame'>\n",
      "RangeIndex: 2201 entries, 0 to 2200\n",
      "Data columns (total 13 columns):\n",
      " #   Column         Non-Null Count  Dtype \n",
      "---  ------         --------------  ----- \n",
      " 0   CRS_DEP_TIME   2201 non-null   int64 \n",
      " 1   CARRIER        2201 non-null   object\n",
      " 2   DEP_TIME       2201 non-null   int64 \n",
      " 3   DEST           2201 non-null   object\n",
      " 4   DISTANCE       2201 non-null   int64 \n",
      " 5   FL_DATE        2201 non-null   object\n",
      " 6   FL_NUM         2201 non-null   int64 \n",
      " 7   ORIGIN         2201 non-null   object\n",
      " 8   Weather        2201 non-null   int64 \n",
      " 9   DAY_WEEK       2201 non-null   int64 \n",
      " 10  DAY_OF_MONTH   2201 non-null   int64 \n",
      " 11  TAIL_NUM       2201 non-null   object\n",
      " 12  Flight Status  2201 non-null   object\n",
      "dtypes: int64(7), object(6)\n",
      "memory usage: 223.7+ KB\n"
     ]
    }
   ],
   "source": [
    "data.info()"
   ]
  },
  {
   "cell_type": "code",
   "execution_count": 30,
   "metadata": {},
   "outputs": [
    {
     "data": {
      "text/html": [
       "<div>\n",
       "<style scoped>\n",
       "    .dataframe tbody tr th:only-of-type {\n",
       "        vertical-align: middle;\n",
       "    }\n",
       "\n",
       "    .dataframe tbody tr th {\n",
       "        vertical-align: top;\n",
       "    }\n",
       "\n",
       "    .dataframe thead th {\n",
       "        text-align: right;\n",
       "    }\n",
       "</style>\n",
       "<table border=\"1\" class=\"dataframe\">\n",
       "  <thead>\n",
       "    <tr style=\"text-align: right;\">\n",
       "      <th></th>\n",
       "      <th>CRS_DEP_TIME</th>\n",
       "      <th>CARRIER</th>\n",
       "      <th>DEP_TIME</th>\n",
       "      <th>DEST</th>\n",
       "      <th>DISTANCE</th>\n",
       "      <th>FL_DATE</th>\n",
       "      <th>FL_NUM</th>\n",
       "      <th>ORIGIN</th>\n",
       "      <th>Weather</th>\n",
       "      <th>DAY_WEEK</th>\n",
       "      <th>DAY_OF_MONTH</th>\n",
       "      <th>TAIL_NUM</th>\n",
       "      <th>Flight Status</th>\n",
       "    </tr>\n",
       "  </thead>\n",
       "  <tbody>\n",
       "    <tr>\n",
       "      <th>0</th>\n",
       "      <td>1455</td>\n",
       "      <td>OH</td>\n",
       "      <td>1455</td>\n",
       "      <td>JFK</td>\n",
       "      <td>184</td>\n",
       "      <td>01/01/2004</td>\n",
       "      <td>5935</td>\n",
       "      <td>BWI</td>\n",
       "      <td>0</td>\n",
       "      <td>4</td>\n",
       "      <td>1</td>\n",
       "      <td>N940CA</td>\n",
       "      <td>ontime</td>\n",
       "    </tr>\n",
       "    <tr>\n",
       "      <th>1</th>\n",
       "      <td>1640</td>\n",
       "      <td>DH</td>\n",
       "      <td>1640</td>\n",
       "      <td>JFK</td>\n",
       "      <td>213</td>\n",
       "      <td>01/01/2004</td>\n",
       "      <td>6155</td>\n",
       "      <td>DCA</td>\n",
       "      <td>0</td>\n",
       "      <td>4</td>\n",
       "      <td>1</td>\n",
       "      <td>N405FJ</td>\n",
       "      <td>ontime</td>\n",
       "    </tr>\n",
       "    <tr>\n",
       "      <th>2</th>\n",
       "      <td>1245</td>\n",
       "      <td>DH</td>\n",
       "      <td>1245</td>\n",
       "      <td>LGA</td>\n",
       "      <td>229</td>\n",
       "      <td>01/01/2004</td>\n",
       "      <td>7208</td>\n",
       "      <td>IAD</td>\n",
       "      <td>0</td>\n",
       "      <td>4</td>\n",
       "      <td>1</td>\n",
       "      <td>N695BR</td>\n",
       "      <td>ontime</td>\n",
       "    </tr>\n",
       "    <tr>\n",
       "      <th>3</th>\n",
       "      <td>1715</td>\n",
       "      <td>DH</td>\n",
       "      <td>1709</td>\n",
       "      <td>LGA</td>\n",
       "      <td>229</td>\n",
       "      <td>01/01/2004</td>\n",
       "      <td>7215</td>\n",
       "      <td>IAD</td>\n",
       "      <td>0</td>\n",
       "      <td>4</td>\n",
       "      <td>1</td>\n",
       "      <td>N662BR</td>\n",
       "      <td>ontime</td>\n",
       "    </tr>\n",
       "    <tr>\n",
       "      <th>4</th>\n",
       "      <td>1039</td>\n",
       "      <td>DH</td>\n",
       "      <td>1035</td>\n",
       "      <td>LGA</td>\n",
       "      <td>229</td>\n",
       "      <td>01/01/2004</td>\n",
       "      <td>7792</td>\n",
       "      <td>IAD</td>\n",
       "      <td>0</td>\n",
       "      <td>4</td>\n",
       "      <td>1</td>\n",
       "      <td>N698BR</td>\n",
       "      <td>ontime</td>\n",
       "    </tr>\n",
       "  </tbody>\n",
       "</table>\n",
       "</div>"
      ],
      "text/plain": [
       "   CRS_DEP_TIME CARRIER  DEP_TIME DEST  DISTANCE     FL_DATE  FL_NUM ORIGIN  \\\n",
       "0          1455      OH      1455  JFK       184  01/01/2004    5935    BWI   \n",
       "1          1640      DH      1640  JFK       213  01/01/2004    6155    DCA   \n",
       "2          1245      DH      1245  LGA       229  01/01/2004    7208    IAD   \n",
       "3          1715      DH      1709  LGA       229  01/01/2004    7215    IAD   \n",
       "4          1039      DH      1035  LGA       229  01/01/2004    7792    IAD   \n",
       "\n",
       "   Weather  DAY_WEEK  DAY_OF_MONTH TAIL_NUM Flight Status  \n",
       "0        0         4             1   N940CA        ontime  \n",
       "1        0         4             1   N405FJ        ontime  \n",
       "2        0         4             1   N695BR        ontime  \n",
       "3        0         4             1   N662BR        ontime  \n",
       "4        0         4             1   N698BR        ontime  "
      ]
     },
     "execution_count": 30,
     "metadata": {},
     "output_type": "execute_result"
    }
   ],
   "source": [
    "data.head()"
   ]
  },
  {
   "cell_type": "code",
   "execution_count": 31,
   "metadata": {},
   "outputs": [
    {
     "data": {
      "text/plain": [
       "CRS_DEP_TIME      59\n",
       "CARRIER            8\n",
       "DEP_TIME         633\n",
       "DEST               3\n",
       "DISTANCE           7\n",
       "FL_DATE           31\n",
       "FL_NUM           103\n",
       "ORIGIN             3\n",
       "Weather            2\n",
       "DAY_WEEK           7\n",
       "DAY_OF_MONTH      31\n",
       "TAIL_NUM         549\n",
       "Flight Status      2\n",
       "dtype: int64"
      ]
     },
     "execution_count": 31,
     "metadata": {},
     "output_type": "execute_result"
    }
   ],
   "source": [
    "data.nunique()"
   ]
  },
  {
   "cell_type": "code",
   "execution_count": 32,
   "metadata": {},
   "outputs": [
    {
     "data": {
      "text/plain": [
       "ontime     1773\n",
       "delayed     428\n",
       "Name: Flight Status, dtype: int64"
      ]
     },
     "execution_count": 32,
     "metadata": {},
     "output_type": "execute_result"
    }
   ],
   "source": [
    "data['Flight Status'].value_counts()"
   ]
  },
  {
   "cell_type": "code",
   "execution_count": 33,
   "metadata": {},
   "outputs": [
    {
     "data": {
      "text/plain": [
       "<matplotlib.axes._subplots.AxesSubplot at 0x262a5229508>"
      ]
     },
     "execution_count": 33,
     "metadata": {},
     "output_type": "execute_result"
    },
    {
     "data": {
      "image/png": "[encoded data removed]",
      "text/plain": [
       "<Figure size 432x288 with 1 Axes>"
      ]
     },
     "metadata": {
      "needs_background": "light"
     },
     "output_type": "display_data"
    }
   ],
   "source": [
    "sns.distplot(data['DISTANCE'],kde = False,color = 'black')"
   ]
  },
  {
   "cell_type": "code",
   "execution_count": 34,
   "metadata": {},
   "outputs": [
    {
     "data": {
      "image/png": "[encoded data removed]",
      "text/plain": [
       "<Figure size 432x288 with 1 Axes>"
      ]
     },
     "metadata": {
      "needs_background": "light"
     },
     "output_type": "display_data"
    }
   ],
   "source": [
    "carrier_percentage = []\n",
    "for x in data['CARRIER'].value_counts().index.values:\n",
    "    ontime = data[data['CARRIER'] == x]['Flight Status'].value_counts()['ontime']\n",
    "    late = data[data['CARRIER'] == x]['Flight Status'].value_counts()['delayed']\n",
    "    per = (ontime/(ontime+late))*100 \n",
    "    carrier_percentage.append(per)  \n",
    "fig1 = sns.barplot( x= data['CARRIER'].value_counts().index.values, y = carrier_percentage)\n",
    "fig1.set(xlabel = 'Carrier', ylabel = 'Percentage Ontime')\n",
    "plt.show()"
   ]
  },
  {
   "cell_type": "code",
   "execution_count": 35,
   "metadata": {},
   "outputs": [
    {
     "data": {
      "text/plain": [
       "<matplotlib.axes._subplots.AxesSubplot at 0x262a5392388>"
      ]
     },
     "execution_count": 35,
     "metadata": {},
     "output_type": "execute_result"
    },
    {
     "data": {
      "image/png": "[encoded data removed]",
      "text/plain": [
       "<Figure size 432x288 with 1 Axes>"
      ]
     },
     "metadata": {
      "needs_background": "light"
     },
     "output_type": "display_data"
    }
   ],
   "source": [
    "sns.countplot(x='DEST', data= data ,hue='Flight Status',color = 'blue')"
   ]
  },
  {
   "cell_type": "code",
   "execution_count": 36,
   "metadata": {},
   "outputs": [
    {
     "data": {
      "text/plain": [
       "<matplotlib.axes._subplots.AxesSubplot at 0x262a53d6dc8>"
      ]
     },
     "execution_count": 36,
     "metadata": {},
     "output_type": "execute_result"
    },
    {
     "data": {
      "image/png": "[encoded data removed]",
      "text/plain": [
       "<Figure size 432x288 with 1 Axes>"
      ]
     },
     "metadata": {
      "needs_background": "light"
     },
     "output_type": "display_data"
    }
   ],
   "source": [
    "week_per = pd.DataFrame(columns = ['ontime','delayed'])\n",
    "\n",
    "for x in data['DAY_WEEK'].value_counts().index.values:\n",
    "    on = data[data['DAY_WEEK'] == x]['Flight Status'].value_counts()['ontime']\n",
    "    late = data[data['DAY_WEEK'] == x]['Flight Status'].value_counts()['delayed']\n",
    "    week_per.loc[len(week_per.index)] = [ on, late]\n",
    "days = data['DAY_WEEK'].value_counts().index.values\n",
    "week_per['Day'] = days\n",
    "week_per.set_index('Day',inplace = True)\n",
    "week_per.plot(kind = 'bar',stacked = True)"
   ]
  },
  {
   "cell_type": "code",
   "execution_count": 37,
   "metadata": {},
   "outputs": [
    {
     "data": {
      "text/plain": [
       "<matplotlib.axes._subplots.AxesSubplot at 0x262a5492808>"
      ]
     },
     "execution_count": 37,
     "metadata": {},
     "output_type": "execute_result"
    },
    {
     "data": {
      "image/png": "[encoded data removed]",
      "text/plain": [
       "<Figure size 432x288 with 1 Axes>"
      ]
     },
     "metadata": {
      "needs_background": "light"
     },
     "output_type": "display_data"
    }
   ],
   "source": [
    "sns.countplot(x='ORIGIN', data= data ,hue='Flight Status',color = 'black')"
   ]
  },
  {
   "cell_type": "code",
   "execution_count": 38,
   "metadata": {},
   "outputs": [
    {
     "data": {
      "text/plain": [
       "<matplotlib.axes._subplots.AxesSubplot at 0x262a550ecc8>"
      ]
     },
     "execution_count": 38,
     "metadata": {},
     "output_type": "execute_result"
    },
    {
     "data": {
      "image/png": "[encoded data removed]",
      "text/plain": [
       "<Figure size 432x288 with 1 Axes>"
      ]
     },
     "metadata": {
      "needs_background": "light"
     },
     "output_type": "display_data"
    }
   ],
   "source": [
    "sns.countplot(x='Weather', data= data ,hue='Flight Status')"
   ]
  },
  {
   "cell_type": "code",
   "execution_count": 39,
   "metadata": {},
   "outputs": [
    {
     "data": {
      "text/html": [
       "<div>\n",
       "<style scoped>\n",
       "    .dataframe tbody tr th:only-of-type {\n",
       "        vertical-align: middle;\n",
       "    }\n",
       "\n",
       "    .dataframe tbody tr th {\n",
       "        vertical-align: top;\n",
       "    }\n",
       "\n",
       "    .dataframe thead th {\n",
       "        text-align: right;\n",
       "    }\n",
       "</style>\n",
       "<table border=\"1\" class=\"dataframe\">\n",
       "  <thead>\n",
       "    <tr style=\"text-align: right;\">\n",
       "      <th></th>\n",
       "      <th>CRS_DEP_TIME</th>\n",
       "      <th>CARRIER</th>\n",
       "      <th>DEP_TIME</th>\n",
       "      <th>DEST</th>\n",
       "      <th>DISTANCE</th>\n",
       "      <th>FL_NUM</th>\n",
       "      <th>ORIGIN</th>\n",
       "      <th>Weather</th>\n",
       "      <th>DAY_WEEK</th>\n",
       "      <th>DAY_OF_MONTH</th>\n",
       "      <th>...</th>\n",
       "      <th>DH</th>\n",
       "      <th>DL</th>\n",
       "      <th>MQ</th>\n",
       "      <th>OH</th>\n",
       "      <th>RU</th>\n",
       "      <th>UA</th>\n",
       "      <th>US</th>\n",
       "      <th>BWI</th>\n",
       "      <th>DCA</th>\n",
       "      <th>IAD</th>\n",
       "    </tr>\n",
       "  </thead>\n",
       "  <tbody>\n",
       "    <tr>\n",
       "      <th>0</th>\n",
       "      <td>1455</td>\n",
       "      <td>OH</td>\n",
       "      <td>1455</td>\n",
       "      <td>JFK</td>\n",
       "      <td>184</td>\n",
       "      <td>5935</td>\n",
       "      <td>BWI</td>\n",
       "      <td>0</td>\n",
       "      <td>4</td>\n",
       "      <td>1</td>\n",
       "      <td>...</td>\n",
       "      <td>0</td>\n",
       "      <td>0</td>\n",
       "      <td>0</td>\n",
       "      <td>1</td>\n",
       "      <td>0</td>\n",
       "      <td>0</td>\n",
       "      <td>0</td>\n",
       "      <td>1</td>\n",
       "      <td>0</td>\n",
       "      <td>0</td>\n",
       "    </tr>\n",
       "    <tr>\n",
       "      <th>1</th>\n",
       "      <td>1640</td>\n",
       "      <td>DH</td>\n",
       "      <td>1640</td>\n",
       "      <td>JFK</td>\n",
       "      <td>213</td>\n",
       "      <td>6155</td>\n",
       "      <td>DCA</td>\n",
       "      <td>0</td>\n",
       "      <td>4</td>\n",
       "      <td>1</td>\n",
       "      <td>...</td>\n",
       "      <td>1</td>\n",
       "      <td>0</td>\n",
       "      <td>0</td>\n",
       "      <td>0</td>\n",
       "      <td>0</td>\n",
       "      <td>0</td>\n",
       "      <td>0</td>\n",
       "      <td>0</td>\n",
       "      <td>1</td>\n",
       "      <td>0</td>\n",
       "    </tr>\n",
       "    <tr>\n",
       "      <th>2</th>\n",
       "      <td>1245</td>\n",
       "      <td>DH</td>\n",
       "      <td>1245</td>\n",
       "      <td>LGA</td>\n",
       "      <td>229</td>\n",
       "      <td>7208</td>\n",
       "      <td>IAD</td>\n",
       "      <td>0</td>\n",
       "      <td>4</td>\n",
       "      <td>1</td>\n",
       "      <td>...</td>\n",
       "      <td>1</td>\n",
       "      <td>0</td>\n",
       "      <td>0</td>\n",
       "      <td>0</td>\n",
       "      <td>0</td>\n",
       "      <td>0</td>\n",
       "      <td>0</td>\n",
       "      <td>0</td>\n",
       "      <td>0</td>\n",
       "      <td>1</td>\n",
       "    </tr>\n",
       "    <tr>\n",
       "      <th>3</th>\n",
       "      <td>1715</td>\n",
       "      <td>DH</td>\n",
       "      <td>1709</td>\n",
       "      <td>LGA</td>\n",
       "      <td>229</td>\n",
       "      <td>7215</td>\n",
       "      <td>IAD</td>\n",
       "      <td>0</td>\n",
       "      <td>4</td>\n",
       "      <td>1</td>\n",
       "      <td>...</td>\n",
       "      <td>1</td>\n",
       "      <td>0</td>\n",
       "      <td>0</td>\n",
       "      <td>0</td>\n",
       "      <td>0</td>\n",
       "      <td>0</td>\n",
       "      <td>0</td>\n",
       "      <td>0</td>\n",
       "      <td>0</td>\n",
       "      <td>1</td>\n",
       "    </tr>\n",
       "    <tr>\n",
       "      <th>4</th>\n",
       "      <td>1039</td>\n",
       "      <td>DH</td>\n",
       "      <td>1035</td>\n",
       "      <td>LGA</td>\n",
       "      <td>229</td>\n",
       "      <td>7792</td>\n",
       "      <td>IAD</td>\n",
       "      <td>0</td>\n",
       "      <td>4</td>\n",
       "      <td>1</td>\n",
       "      <td>...</td>\n",
       "      <td>1</td>\n",
       "      <td>0</td>\n",
       "      <td>0</td>\n",
       "      <td>0</td>\n",
       "      <td>0</td>\n",
       "      <td>0</td>\n",
       "      <td>0</td>\n",
       "      <td>0</td>\n",
       "      <td>0</td>\n",
       "      <td>1</td>\n",
       "    </tr>\n",
       "  </tbody>\n",
       "</table>\n",
       "<p>5 rows × 26 columns</p>\n",
       "</div>"
      ],
      "text/plain": [
       "   CRS_DEP_TIME CARRIER  DEP_TIME DEST  DISTANCE  FL_NUM ORIGIN  Weather  \\\n",
       "0          1455      OH      1455  JFK       184    5935    BWI        0   \n",
       "1          1640      DH      1640  JFK       213    6155    DCA        0   \n",
       "2          1245      DH      1245  LGA       229    7208    IAD        0   \n",
       "3          1715      DH      1709  LGA       229    7215    IAD        0   \n",
       "4          1039      DH      1035  LGA       229    7792    IAD        0   \n",
       "\n",
       "   DAY_WEEK  DAY_OF_MONTH  ... DH  DL  MQ  OH  RU  UA  US  BWI  DCA  IAD  \n",
       "0         4             1  ...  0   0   0   1   0   0   0    1    0    0  \n",
       "1         4             1  ...  1   0   0   0   0   0   0    0    1    0  \n",
       "2         4             1  ...  1   0   0   0   0   0   0    0    0    1  \n",
       "3         4             1  ...  1   0   0   0   0   0   0    0    0    1  \n",
       "4         4             1  ...  1   0   0   0   0   0   0    0    0    1  \n",
       "\n",
       "[5 rows x 26 columns]"
      ]
     },
     "execution_count": 39,
     "metadata": {},
     "output_type": "execute_result"
    }
   ],
   "source": [
    "final = data.drop(['FL_DATE','TAIL_NUM'],axis=1)\n",
    "status = pd.get_dummies(final['Flight Status'],drop_first=True)\n",
    "destination = pd.get_dummies(final['DEST'])\n",
    "carrier = pd.get_dummies(final['CARRIER'])\n",
    "origin = pd.get_dummies(final['ORIGIN'])\n",
    "final = pd.concat([final,status,destination,carrier,origin],axis =1)\n",
    "final.ontime = final.ontime.astype(float)\n",
    "final.head()"
   ]
  },
  {
   "cell_type": "code",
   "execution_count": 40,
   "metadata": {},
   "outputs": [
    {
     "name": "stdout",
     "output_type": "stream",
     "text": [
      "<class 'pandas.core.frame.DataFrame'>\n",
      "Int64Index: 1320 entries, 2056 to 863\n",
      "Data columns (total 21 columns):\n",
      " #   Column        Non-Null Count  Dtype\n",
      "---  ------        --------------  -----\n",
      " 0   CRS_DEP_TIME  1320 non-null   int64\n",
      " 1   DEP_TIME      1320 non-null   int64\n",
      " 2   DISTANCE      1320 non-null   int64\n",
      " 3   FL_NUM        1320 non-null   int64\n",
      " 4   Weather       1320 non-null   int64\n",
      " 5   DAY_WEEK      1320 non-null   int64\n",
      " 6   DAY_OF_MONTH  1320 non-null   int64\n",
      " 7   EWR           1320 non-null   uint8\n",
      " 8   JFK           1320 non-null   uint8\n",
      " 9   LGA           1320 non-null   uint8\n",
      " 10  CO            1320 non-null   uint8\n",
      " 11  DH            1320 non-null   uint8\n",
      " 12  DL            1320 non-null   uint8\n",
      " 13  MQ            1320 non-null   uint8\n",
      " 14  OH            1320 non-null   uint8\n",
      " 15  RU            1320 non-null   uint8\n",
      " 16  UA            1320 non-null   uint8\n",
      " 17  US            1320 non-null   uint8\n",
      " 18  BWI           1320 non-null   uint8\n",
      " 19  DCA           1320 non-null   uint8\n",
      " 20  IAD           1320 non-null   uint8\n",
      "dtypes: int64(7), uint8(14)\n",
      "memory usage: 100.5 KB\n"
     ]
    }
   ],
   "source": [
    "#TTS for model\n",
    "from sklearn.model_selection import train_test_split\n",
    "X_train, X_test, y_train, y_test = train_test_split(final.drop(['ontime','Flight Status','ORIGIN','DEST','CARRIER'],axis=1),final['ontime'], test_size=0.40,random_state=101)\n",
    "X_train.info()"
   ]
  },
  {
   "cell_type": "code",
   "execution_count": 41,
   "metadata": {},
   "outputs": [],
   "source": [
    "from sklearn.linear_model import LogisticRegression"
   ]
  },
  {
   "cell_type": "code",
   "execution_count": 42,
   "metadata": {},
   "outputs": [
    {
     "name": "stderr",
     "output_type": "stream",
     "text": [
      "D:\\Softwares\\python\\lib\\site-packages\\sklearn\\linear_model\\_logistic.py:940: ConvergenceWarning: lbfgs failed to converge (status=1):\n",
      "STOP: TOTAL NO. of ITERATIONS REACHED LIMIT.\n",
      "\n",
      "Increase the number of iterations (max_iter) or scale the data as shown in:\n",
      "    https://scikit-learn.org/stable/modules/preprocessing.html\n",
      "Please also refer to the documentation for alternative solver options:\n",
      "    https://scikit-learn.org/stable/modules/linear_model.html#logistic-regression\n",
      "  extra_warning_msg=_LOGISTIC_SOLVER_CONVERGENCE_MSG)\n"
     ]
    },
    {
     "data": {
      "text/plain": [
       "LogisticRegression(C=1.0, class_weight=None, dual=False, fit_intercept=True,\n",
       "                   intercept_scaling=1, l1_ratio=None, max_iter=100,\n",
       "                   multi_class='auto', n_jobs=None, penalty='l2',\n",
       "                   random_state=None, solver='lbfgs', tol=0.0001, verbose=0,\n",
       "                   warm_start=False)"
      ]
     },
     "execution_count": 42,
     "metadata": {},
     "output_type": "execute_result"
    }
   ],
   "source": [
    "#Applying logistic Regression\n",
    "logmodel = LogisticRegression()\n",
    "logmodel.fit(X_train,y_train)"
   ]
  },
  {
   "cell_type": "code",
   "execution_count": 43,
   "metadata": {},
   "outputs": [],
   "source": [
    "predictions = logmodel.predict(X_test)"
   ]
  },
  {
   "cell_type": "code",
   "execution_count": 44,
   "metadata": {},
   "outputs": [
    {
     "name": "stdout",
     "output_type": "stream",
     "text": [
      "              precision    recall  f1-score   support\n",
      "\n",
      "         0.0       0.99      0.47      0.64       169\n",
      "         1.0       0.89      1.00      0.94       712\n",
      "\n",
      "    accuracy                           0.90       881\n",
      "   macro avg       0.94      0.74      0.79       881\n",
      "weighted avg       0.91      0.90      0.88       881\n",
      "\n"
     ]
    }
   ],
   "source": [
    "from sklearn.metrics import classification_report\n",
    "print(classification_report(y_test,predictions))"
   ]
  },
  {
   "cell_type": "code",
   "execution_count": 45,
   "metadata": {},
   "outputs": [
    {
     "data": {
      "text/plain": [
       "array([[ 2.30754791e-02, -2.36144580e-02,  1.22808699e-02,\n",
       "        -5.27200004e-05, -4.57514069e-01,  5.92636616e-02,\n",
       "        -1.77796402e-02, -1.34731151e-01,  1.06672303e-01,\n",
       "         3.63624249e-02, -1.42532578e-01,  2.97883699e-01,\n",
       "         5.25634375e-01, -6.98844432e-01,  6.93435700e-02,\n",
       "        -1.66265637e-01, -4.89612911e-03,  1.27980709e-01,\n",
       "         7.61309979e-02,  4.43864883e-02, -1.12213910e-01]])"
      ]
     },
     "execution_count": 45,
     "metadata": {},
     "output_type": "execute_result"
    }
   ],
   "source": [
    "#Coefficients\n",
    "logmodel.coef_"
   ]
  },
  {
   "cell_type": "code",
   "execution_count": 46,
   "metadata": {},
   "outputs": [
    {
     "data": {
      "text/plain": [
       "<matplotlib.axes._subplots.AxesSubplot at 0x262a559c708>"
      ]
     },
     "execution_count": 46,
     "metadata": {},
     "output_type": "execute_result"
    },
    {
     "data": {
      "image/png": "[encoded data removed]",
      "text/plain": [
       "<Figure size 432x288 with 1 Axes>"
      ]
     },
     "metadata": {
      "needs_background": "light"
     },
     "output_type": "display_data"
    }
   ],
   "source": [
    "x = logmodel.coef_.reshape((21,1))\n",
    "r = X_train.columns.values.reshape((21,1))\n",
    "df = pd.DataFrame(data = x ,  index = r ,  columns = ['Coeff'])\n",
    "new = np.array(list(range(1,22))).reshape(21,1)                                       \n",
    "df2 = pd.DataFrame(data=new,index=r,columns=['B'])\n",
    "df = pd.concat([df,df2],axis=1)\n",
    "df['Coeff'] = df['Coeff'].abs()\n",
    "sns.barplot(data=df, x='B', y='Coeff')"
   ]
  },
  {
   "cell_type": "code",
   "execution_count": 47,
   "metadata": {},
   "outputs": [
    {
     "data": {
      "text/html": [
       "<div>\n",
       "<style scoped>\n",
       "    .dataframe tbody tr th:only-of-type {\n",
       "        vertical-align: middle;\n",
       "    }\n",
       "\n",
       "    .dataframe tbody tr th {\n",
       "        vertical-align: top;\n",
       "    }\n",
       "\n",
       "    .dataframe thead th {\n",
       "        text-align: right;\n",
       "    }\n",
       "</style>\n",
       "<table border=\"1\" class=\"dataframe\">\n",
       "  <thead>\n",
       "    <tr style=\"text-align: right;\">\n",
       "      <th></th>\n",
       "      <th>Coeff</th>\n",
       "      <th>B</th>\n",
       "    </tr>\n",
       "  </thead>\n",
       "  <tbody>\n",
       "    <tr>\n",
       "      <th>(CRS_DEP_TIME,)</th>\n",
       "      <td>0.023075</td>\n",
       "      <td>1</td>\n",
       "    </tr>\n",
       "    <tr>\n",
       "      <th>(DEP_TIME,)</th>\n",
       "      <td>0.023614</td>\n",
       "      <td>2</td>\n",
       "    </tr>\n",
       "    <tr>\n",
       "      <th>(DISTANCE,)</th>\n",
       "      <td>0.012281</td>\n",
       "      <td>3</td>\n",
       "    </tr>\n",
       "    <tr>\n",
       "      <th>(FL_NUM,)</th>\n",
       "      <td>0.000053</td>\n",
       "      <td>4</td>\n",
       "    </tr>\n",
       "    <tr>\n",
       "      <th>(Weather,)</th>\n",
       "      <td>0.457514</td>\n",
       "      <td>5</td>\n",
       "    </tr>\n",
       "    <tr>\n",
       "      <th>(DAY_WEEK,)</th>\n",
       "      <td>0.059264</td>\n",
       "      <td>6</td>\n",
       "    </tr>\n",
       "    <tr>\n",
       "      <th>(DAY_OF_MONTH,)</th>\n",
       "      <td>0.017780</td>\n",
       "      <td>7</td>\n",
       "    </tr>\n",
       "    <tr>\n",
       "      <th>(EWR,)</th>\n",
       "      <td>0.134731</td>\n",
       "      <td>8</td>\n",
       "    </tr>\n",
       "    <tr>\n",
       "      <th>(JFK,)</th>\n",
       "      <td>0.106672</td>\n",
       "      <td>9</td>\n",
       "    </tr>\n",
       "    <tr>\n",
       "      <th>(LGA,)</th>\n",
       "      <td>0.036362</td>\n",
       "      <td>10</td>\n",
       "    </tr>\n",
       "    <tr>\n",
       "      <th>(CO,)</th>\n",
       "      <td>0.142533</td>\n",
       "      <td>11</td>\n",
       "    </tr>\n",
       "    <tr>\n",
       "      <th>(DH,)</th>\n",
       "      <td>0.297884</td>\n",
       "      <td>12</td>\n",
       "    </tr>\n",
       "    <tr>\n",
       "      <th>(DL,)</th>\n",
       "      <td>0.525634</td>\n",
       "      <td>13</td>\n",
       "    </tr>\n",
       "    <tr>\n",
       "      <th>(MQ,)</th>\n",
       "      <td>0.698844</td>\n",
       "      <td>14</td>\n",
       "    </tr>\n",
       "    <tr>\n",
       "      <th>(OH,)</th>\n",
       "      <td>0.069344</td>\n",
       "      <td>15</td>\n",
       "    </tr>\n",
       "    <tr>\n",
       "      <th>(RU,)</th>\n",
       "      <td>0.166266</td>\n",
       "      <td>16</td>\n",
       "    </tr>\n",
       "    <tr>\n",
       "      <th>(UA,)</th>\n",
       "      <td>0.004896</td>\n",
       "      <td>17</td>\n",
       "    </tr>\n",
       "    <tr>\n",
       "      <th>(US,)</th>\n",
       "      <td>0.127981</td>\n",
       "      <td>18</td>\n",
       "    </tr>\n",
       "    <tr>\n",
       "      <th>(BWI,)</th>\n",
       "      <td>0.076131</td>\n",
       "      <td>19</td>\n",
       "    </tr>\n",
       "    <tr>\n",
       "      <th>(DCA,)</th>\n",
       "      <td>0.044386</td>\n",
       "      <td>20</td>\n",
       "    </tr>\n",
       "    <tr>\n",
       "      <th>(IAD,)</th>\n",
       "      <td>0.112214</td>\n",
       "      <td>21</td>\n",
       "    </tr>\n",
       "  </tbody>\n",
       "</table>\n",
       "</div>"
      ],
      "text/plain": [
       "                    Coeff   B\n",
       "(CRS_DEP_TIME,)  0.023075   1\n",
       "(DEP_TIME,)      0.023614   2\n",
       "(DISTANCE,)      0.012281   3\n",
       "(FL_NUM,)        0.000053   4\n",
       "(Weather,)       0.457514   5\n",
       "(DAY_WEEK,)      0.059264   6\n",
       "(DAY_OF_MONTH,)  0.017780   7\n",
       "(EWR,)           0.134731   8\n",
       "(JFK,)           0.106672   9\n",
       "(LGA,)           0.036362  10\n",
       "(CO,)            0.142533  11\n",
       "(DH,)            0.297884  12\n",
       "(DL,)            0.525634  13\n",
       "(MQ,)            0.698844  14\n",
       "(OH,)            0.069344  15\n",
       "(RU,)            0.166266  16\n",
       "(UA,)            0.004896  17\n",
       "(US,)            0.127981  18\n",
       "(BWI,)           0.076131  19\n",
       "(DCA,)           0.044386  20\n",
       "(IAD,)           0.112214  21"
      ]
     },
     "execution_count": 47,
     "metadata": {},
     "output_type": "execute_result"
    }
   ],
   "source": [
    "#Coefficient dataframe of attributes\n",
    "df"
   ]
  },
  {
   "cell_type": "code",
   "execution_count": 48,
   "metadata": {},
   "outputs": [
    {
     "name": "stdout",
     "output_type": "stream",
     "text": [
      "<class 'pandas.core.frame.DataFrame'>\n",
      "Int64Index: 1320 entries, 2056 to 863\n",
      "Data columns (total 18 columns):\n",
      " #   Column        Non-Null Count  Dtype\n",
      "---  ------        --------------  -----\n",
      " 0   CRS_DEP_TIME  1320 non-null   int64\n",
      " 1   DEP_TIME      1320 non-null   int64\n",
      " 2   Weather       1320 non-null   int64\n",
      " 3   DAY_WEEK      1320 non-null   int64\n",
      " 4   EWR           1320 non-null   uint8\n",
      " 5   JFK           1320 non-null   uint8\n",
      " 6   LGA           1320 non-null   uint8\n",
      " 7   CO            1320 non-null   uint8\n",
      " 8   DH            1320 non-null   uint8\n",
      " 9   DL            1320 non-null   uint8\n",
      " 10  MQ            1320 non-null   uint8\n",
      " 11  OH            1320 non-null   uint8\n",
      " 12  RU            1320 non-null   uint8\n",
      " 13  UA            1320 non-null   uint8\n",
      " 14  US            1320 non-null   uint8\n",
      " 15  BWI           1320 non-null   uint8\n",
      " 16  DCA           1320 non-null   uint8\n",
      " 17  IAD           1320 non-null   uint8\n",
      "dtypes: int64(4), uint8(14)\n",
      "memory usage: 69.6 KB\n"
     ]
    }
   ],
   "source": [
    "#TTS of new model along with attribute information\n",
    "newfinal = final.drop(['DISTANCE','FL_NUM','DAY_OF_MONTH','Flight Status','ORIGIN','DEST','CARRIER'],axis=1)\n",
    "from sklearn.model_selection import train_test_split\n",
    "X_ntrain, X_ntest, y_ntrain, y_ntest = train_test_split(newfinal.drop(['ontime'],axis=1),newfinal['ontime'],test_size=0.40,random_state=101)\n",
    "X_ntrain.info()"
   ]
  },
  {
   "cell_type": "code",
   "execution_count": 49,
   "metadata": {},
   "outputs": [
    {
     "name": "stdout",
     "output_type": "stream",
     "text": [
      "              precision    recall  f1-score   support\n",
      "\n",
      "         0.0       1.00      0.47      0.64       169\n",
      "         1.0       0.89      1.00      0.94       712\n",
      "\n",
      "    accuracy                           0.90       881\n",
      "   macro avg       0.94      0.74      0.79       881\n",
      "weighted avg       0.91      0.90      0.88       881\n",
      "\n"
     ]
    },
    {
     "name": "stderr",
     "output_type": "stream",
     "text": [
      "D:\\Softwares\\python\\lib\\site-packages\\sklearn\\linear_model\\_logistic.py:940: ConvergenceWarning: lbfgs failed to converge (status=1):\n",
      "STOP: TOTAL NO. of ITERATIONS REACHED LIMIT.\n",
      "\n",
      "Increase the number of iterations (max_iter) or scale the data as shown in:\n",
      "    https://scikit-learn.org/stable/modules/preprocessing.html\n",
      "Please also refer to the documentation for alternative solver options:\n",
      "    https://scikit-learn.org/stable/modules/linear_model.html#logistic-regression\n",
      "  extra_warning_msg=_LOGISTIC_SOLVER_CONVERGENCE_MSG)\n"
     ]
    }
   ],
   "source": [
    "#Report of new model\n",
    "logmodel = LogisticRegression()\n",
    "logmodel.fit(X_ntrain,y_ntrain)\n",
    "predictions = logmodel.predict(X_ntest)\n",
    "from sklearn.metrics import classification_report\n",
    "print(classification_report(y_ntest,predictions))"
   ]
  },
  {
   "cell_type": "code",
   "execution_count": 50,
   "metadata": {},
   "outputs": [
    {
     "data": {
      "text/html": [
       "<div>\n",
       "<style scoped>\n",
       "    .dataframe tbody tr th:only-of-type {\n",
       "        vertical-align: middle;\n",
       "    }\n",
       "\n",
       "    .dataframe tbody tr th {\n",
       "        vertical-align: top;\n",
       "    }\n",
       "\n",
       "    .dataframe thead th {\n",
       "        text-align: right;\n",
       "    }\n",
       "</style>\n",
       "<table border=\"1\" class=\"dataframe\">\n",
       "  <thead>\n",
       "    <tr style=\"text-align: right;\">\n",
       "      <th></th>\n",
       "      <th>CRS_DEP_TIME</th>\n",
       "      <th>CARRIER</th>\n",
       "      <th>DEP_TIME</th>\n",
       "      <th>DEST</th>\n",
       "      <th>DISTANCE</th>\n",
       "      <th>FL_DATE</th>\n",
       "      <th>FL_NUM</th>\n",
       "      <th>ORIGIN</th>\n",
       "      <th>Weather</th>\n",
       "      <th>DAY_WEEK</th>\n",
       "      <th>DAY_OF_MONTH</th>\n",
       "      <th>TAIL_NUM</th>\n",
       "      <th>Flight Status</th>\n",
       "    </tr>\n",
       "  </thead>\n",
       "  <tbody>\n",
       "    <tr>\n",
       "      <th>0</th>\n",
       "      <td>1455</td>\n",
       "      <td>OH</td>\n",
       "      <td>1455</td>\n",
       "      <td>JFK</td>\n",
       "      <td>184</td>\n",
       "      <td>01/01/2004</td>\n",
       "      <td>5935</td>\n",
       "      <td>BWI</td>\n",
       "      <td>0</td>\n",
       "      <td>4</td>\n",
       "      <td>1</td>\n",
       "      <td>N940CA</td>\n",
       "      <td>ontime</td>\n",
       "    </tr>\n",
       "    <tr>\n",
       "      <th>1</th>\n",
       "      <td>1640</td>\n",
       "      <td>DH</td>\n",
       "      <td>1640</td>\n",
       "      <td>JFK</td>\n",
       "      <td>213</td>\n",
       "      <td>01/01/2004</td>\n",
       "      <td>6155</td>\n",
       "      <td>DCA</td>\n",
       "      <td>0</td>\n",
       "      <td>4</td>\n",
       "      <td>1</td>\n",
       "      <td>N405FJ</td>\n",
       "      <td>ontime</td>\n",
       "    </tr>\n",
       "    <tr>\n",
       "      <th>2</th>\n",
       "      <td>1245</td>\n",
       "      <td>DH</td>\n",
       "      <td>1245</td>\n",
       "      <td>LGA</td>\n",
       "      <td>229</td>\n",
       "      <td>01/01/2004</td>\n",
       "      <td>7208</td>\n",
       "      <td>IAD</td>\n",
       "      <td>0</td>\n",
       "      <td>4</td>\n",
       "      <td>1</td>\n",
       "      <td>N695BR</td>\n",
       "      <td>ontime</td>\n",
       "    </tr>\n",
       "    <tr>\n",
       "      <th>3</th>\n",
       "      <td>1715</td>\n",
       "      <td>DH</td>\n",
       "      <td>1709</td>\n",
       "      <td>LGA</td>\n",
       "      <td>229</td>\n",
       "      <td>01/01/2004</td>\n",
       "      <td>7215</td>\n",
       "      <td>IAD</td>\n",
       "      <td>0</td>\n",
       "      <td>4</td>\n",
       "      <td>1</td>\n",
       "      <td>N662BR</td>\n",
       "      <td>ontime</td>\n",
       "    </tr>\n",
       "    <tr>\n",
       "      <th>4</th>\n",
       "      <td>1039</td>\n",
       "      <td>DH</td>\n",
       "      <td>1035</td>\n",
       "      <td>LGA</td>\n",
       "      <td>229</td>\n",
       "      <td>01/01/2004</td>\n",
       "      <td>7792</td>\n",
       "      <td>IAD</td>\n",
       "      <td>0</td>\n",
       "      <td>4</td>\n",
       "      <td>1</td>\n",
       "      <td>N698BR</td>\n",
       "      <td>ontime</td>\n",
       "    </tr>\n",
       "  </tbody>\n",
       "</table>\n",
       "</div>"
      ],
      "text/plain": [
       "   CRS_DEP_TIME CARRIER  DEP_TIME DEST  DISTANCE     FL_DATE  FL_NUM ORIGIN  \\\n",
       "0          1455      OH      1455  JFK       184  01/01/2004    5935    BWI   \n",
       "1          1640      DH      1640  JFK       213  01/01/2004    6155    DCA   \n",
       "2          1245      DH      1245  LGA       229  01/01/2004    7208    IAD   \n",
       "3          1715      DH      1709  LGA       229  01/01/2004    7215    IAD   \n",
       "4          1039      DH      1035  LGA       229  01/01/2004    7792    IAD   \n",
       "\n",
       "   Weather  DAY_WEEK  DAY_OF_MONTH TAIL_NUM Flight Status  \n",
       "0        0         4             1   N940CA        ontime  \n",
       "1        0         4             1   N405FJ        ontime  \n",
       "2        0         4             1   N695BR        ontime  \n",
       "3        0         4             1   N662BR        ontime  \n",
       "4        0         4             1   N698BR        ontime  "
      ]
     },
     "execution_count": 50,
     "metadata": {},
     "output_type": "execute_result"
    }
   ],
   "source": [
    "new = data\n",
    "new.head()"
   ]
  },
  {
   "cell_type": "code",
   "execution_count": 51,
   "metadata": {},
   "outputs": [
    {
     "name": "stdout",
     "output_type": "stream",
     "text": [
      "1000 All ontime\n",
      "1200 All ontime\n",
      "1330 All ontime\n",
      "845 All ontime\n",
      "925 All ontime\n",
      "759 All ontime\n",
      "1605 All delayed\n",
      "1520 All ontime\n",
      "1725 All ontime\n"
     ]
    }
   ],
   "source": [
    "#Finding ideal times\n",
    "allontime = []\n",
    "for x in new['CRS_DEP_TIME'].value_counts().index.values:\n",
    "    try:\n",
    "        ontime = new[new['CRS_DEP_TIME'] == x]['Flight Status'].value_counts()['ontime']\n",
    "    except:\n",
    "        print(x,'All delayed')\n",
    "    try:\n",
    "        late = new[new['CRS_DEP_TIME'] == x]['Flight Status'].value_counts()['delayed']\n",
    "    except:\n",
    "        allontime.append(x)\n",
    "        print(x,'All ontime')  "
   ]
  },
  {
   "cell_type": "code",
   "execution_count": 52,
   "metadata": {},
   "outputs": [
    {
     "name": "stdout",
     "output_type": "stream",
     "text": [
      "1000 23\n",
      "1200 22\n",
      "1330 19\n",
      "845 3\n",
      "925 3\n",
      "759 2\n",
      "1520 1\n",
      "1725 1\n"
     ]
    }
   ],
   "source": [
    "#Number of entries of each time\n",
    "for x in allontime:\n",
    "    b = new[new['CRS_DEP_TIME']==x].shape[0]\n",
    "    print(x,b)"
   ]
  }
 ],
 "metadata": {
  "kernelspec": {
   "display_name": "Python 3",
   "language": "python",
   "name": "python3"
  },
  "language_info": {
   "codemirror_mode": {
    "name": "ipython",
    "version": 3
   },
   "file_extension": ".py",
   "mimetype": "text/x-python",
   "name": "python",
   "nbconvert_exporter": "python",
   "pygments_lexer": "ipython3",
   "version": "3.7.6"
  }
 },
 "nbformat": 4,
 "nbformat_minor": 4
}
